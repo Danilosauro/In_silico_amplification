{
 "cells": [
  {
   "cell_type": "markdown",
   "id": "2d4d44a4-5d0e-45bc-a744-b808f7e5b21d",
   "metadata": {},
   "source": [
    "## Importing required libraries"
   ]
  },
  {
   "cell_type": "code",
   "execution_count": 78,
   "id": "3ce116d3-bef7-4c85-bb84-08578c79672d",
   "metadata": {},
   "outputs": [
    {
     "name": "stdout",
     "output_type": "stream",
     "text": [
      "Requirement already satisfied: biopython in /home/danilo/anaconda3/lib/python3.11/site-packages (1.84)\n",
      "Requirement already satisfied: numpy in /home/danilo/anaconda3/lib/python3.11/site-packages (from biopython) (1.26.4)\n"
     ]
    }
   ],
   "source": [
    "!pip install biopython"
   ]
  },
  {
   "cell_type": "code",
   "execution_count": 79,
   "id": "0e3573f4-8f74-455d-a0cd-90d65636b6e8",
   "metadata": {},
   "outputs": [],
   "source": [
    "from Bio import SeqIO\n",
    "from Bio.Seq import Seq \n",
    "from Bio.SeqRecord import SeqRecord \n",
    "import gzip \n",
    "import glob \n",
    "import string \n",
    "import itertools"
   ]
  },
  {
   "cell_type": "markdown",
   "id": "31c99201-b70b-43a3-badf-bdfe6f2df58e",
   "metadata": {},
   "source": [
    "## Extra resources"
   ]
  },
  {
   "cell_type": "code",
   "execution_count": 80,
   "id": "27ee49ee-b34e-4e5c-9574-3754376cbe79",
   "metadata": {},
   "outputs": [],
   "source": [
    "punctuation = string.punctuation  ## using this package to get a list of possible punctuations in utf-8 format. "
   ]
  },
  {
   "cell_type": "code",
   "execution_count": 82,
   "id": "34de370a-8169-44cd-8574-08cb74941ee4",
   "metadata": {},
   "outputs": [],
   "source": [
    "numbers_list = [0,1,2,3,4,5,6,7,8,9]"
   ]
  },
  {
   "cell_type": "markdown",
   "id": "e3925037-1e35-4971-855c-694cafa34d0e",
   "metadata": {},
   "source": [
    "## Starting code to evaluate primer amplification"
   ]
  },
  {
   "cell_type": "code",
   "execution_count": 93,
   "id": "729aaeff-23d4-42d0-b9a2-2012f22b1a13",
   "metadata": {},
   "outputs": [],
   "source": [
    "forward_primer ='-GCDGCHGCNATGCGTTAYAC-3'\n",
    "reverse_primer = '-ACAAGMTCWGCKATTTTTTC-3'"
   ]
  },
  {
   "cell_type": "code",
   "execution_count": 94,
   "id": "017ae87e-1adb-4d6f-ac90-b899fef02966",
   "metadata": {},
   "outputs": [],
   "source": [
    "source_path = 'data/' "
   ]
  },
  {
   "cell_type": "code",
   "execution_count": 95,
   "id": "82d00316-bb40-4b61-a698-0dc2db172b15",
   "metadata": {
    "scrolled": true
   },
   "outputs": [],
   "source": [
    "def decompress_gzip(gzip_path, output_path):\n",
    "    with gzip.open(gzip_path, 'rt') as f_in:\n",
    "        with open(output_path, 'wt') as f_out:\n",
    "            f_out.write(f_in.read())"
   ]
  },
  {
   "cell_type": "code",
   "execution_count": 96,
   "id": "03b55c6e-8202-475c-aa27-a625e53f8cfa",
   "metadata": {},
   "outputs": [],
   "source": [
    "files = glob.glob(source_path + '/*.gz')"
   ]
  },
  {
   "cell_type": "code",
   "execution_count": 97,
   "id": "8c2133d8-99d6-47c5-aace-3ebf6b63bec9",
   "metadata": {},
   "outputs": [],
   "source": [
    "for file in files:\n",
    "    if file.endswith('.gz'):\n",
    "        gzip_path =  file\n",
    "        fasta_path = file.replace('.gz', '') \n",
    "\n",
    "        decompress_gzip(gzip_path, fasta_path)"
   ]
  },
  {
   "cell_type": "code",
   "execution_count": 98,
   "id": "941f7a05-fa35-4c4c-8d72-2246c63ca598",
   "metadata": {},
   "outputs": [],
   "source": [
    "def treating_primer(primer): \n",
    "    for nucleotide in primer: \n",
    "            if nucleotide in punctuation or nucleotide in str(numbers_list): \n",
    "                primer = str(primer).replace(nucleotide, '')\n",
    "    return primer\n",
    "\n",
    "\n",
    "forward_primer = treating_primer(forward_primer) \n",
    "reverse_primer = treating_primer(reverse_primer) "
   ]
  },
  {
   "cell_type": "code",
   "execution_count": 99,
   "id": "56b07914-d60b-47e4-8d3b-b298cea13913",
   "metadata": {},
   "outputs": [
    {
     "name": "stdout",
     "output_type": "stream",
     "text": [
      "GCDGCHGCNATGCGTTAYAC ACAAGMTCWGCKATTTTTTC\n"
     ]
    }
   ],
   "source": [
    "print(forward_primer, reverse_primer)"
   ]
  },
  {
   "cell_type": "code",
   "execution_count": 100,
   "id": "fe9b9533-f818-4ee0-b4cd-b1246746c8c7",
   "metadata": {},
   "outputs": [],
   "source": [
    "def generate_primer_combinations(primer):\n",
    "  \n",
    "    replacements = {\n",
    "        'R': ['G', 'A'],\n",
    "        'Y': ['C', 'T'],\n",
    "        'M': ['A', 'C'],\n",
    "        'K': ['G', 'T'],\n",
    "        'S': ['G', 'C'],\n",
    "        'W': ['A', 'T'],\n",
    "        'B': ['C', 'G', 'T'],\n",
    "        'D': ['A', 'G', 'T'],\n",
    "        'H': ['A', 'C', 'T'],\n",
    "        'V': ['A', 'C', 'G'],\n",
    "        'N': ['A', 'C', 'G', 'T']\n",
    "    }\n",
    "\n",
    "   \n",
    "    parts = []\n",
    "    \n",
    "  \n",
    "    for char in primer:\n",
    "        if char in replacements:\n",
    "            parts.append(replacements[char])\n",
    "        else:\n",
    "            parts.append(char)\n",
    "    \n",
    "    \n",
    "    combinations = [''.join(p) for p in itertools.product(*parts)]\n",
    "    \n",
    "    return combinations"
   ]
  },
  {
   "cell_type": "code",
   "execution_count": 101,
   "id": "7a856116-7233-409f-aa83-089b3b010fd9",
   "metadata": {},
   "outputs": [],
   "source": [
    "treated_forward_primer = generate_primer_combinations(forward_primer) \n",
    "treated_reverse_primer = generate_primer_combinations(reverse_primer)"
   ]
  },
  {
   "cell_type": "code",
   "execution_count": 102,
   "id": "3ec6bfa1-7087-4fb3-83f3-9b5a10ed1945",
   "metadata": {},
   "outputs": [],
   "source": [
    "reverse_complement_primer = []\n",
    "\n",
    "for item in treated_reverse_primer: \n",
    "    my_seq = Seq(item)\n",
    "    reverse_complement_primer.append(my_seq.reverse_complement())"
   ]
  },
  {
   "cell_type": "code",
   "execution_count": 103,
   "id": "24a629f9-a11c-4b49-99cc-961966adf99b",
   "metadata": {},
   "outputs": [],
   "source": [
    "filepath = glob.glob(source_path + '*.fna')\n",
    "\n",
    "def evaluating_amplification(filepath):\n",
    "    amplified_files = [] \n",
    "    field = []\n",
    "    for file in filepath:\n",
    "        for seq_record in SeqIO.parse(file, \"fasta\"):\n",
    "            sequence = seq_record.seq\n",
    "            \n",
    "            for forward_primer in treated_forward_primer:\n",
    "                for reverse_primer in reverse_complement_primer:\n",
    "                    if forward_primer in sequence and reverse_primer in sequence: \n",
    "                        position_fw = sequence.find(forward_primer) \n",
    "                        position_rv = sequence.find(reverse_primer) + len(reverse_primer) \n",
    "                        field.append(sequence[position_fw: position_rv])\n",
    "                        print(field)\n",
    "                        \n",
    "                        amplified_files.append(file)\n",
    "                        print(file, seq_record.id, f'amplificação dupla -  com o foward primer: {forward_primer} e amplificação com o reverso complementar {reverse_primer}') \n",
    "             \n",
    "    amplified_files = list(dict.fromkeys(amplified_files)) \n",
    "    return {'amplified_files': amplified_files,\n",
    "            'field': field}"
   ]
  },
  {
   "cell_type": "code",
   "execution_count": 104,
   "id": "7e343078-94f1-4e48-9450-4b8814b74932",
   "metadata": {},
   "outputs": [
    {
     "name": "stdout",
     "output_type": "stream",
     "text": [
      "[Seq('GCGGCCGCGATGCGTTACACAGAAGCGAGAATGTCAAAAATCGCAATGGAAATC...TGT')]\n",
      "data/genome_05.fna contig_0 amplificação dupla -  com o foward primer: GCGGCCGCGATGCGTTACAC e amplificação com o reverso complementar GAAAAAATCGCAGATCTTGT\n"
     ]
    }
   ],
   "source": [
    "results = evaluating_amplification(filepath) "
   ]
  },
  {
   "cell_type": "code",
   "execution_count": 105,
   "id": "18d454fa-4832-472f-864b-d16e59d57cf8",
   "metadata": {},
   "outputs": [
    {
     "name": "stdout",
     "output_type": "stream",
     "text": [
      "Sequência salva em amplified_sequence.fasta\n"
     ]
    }
   ],
   "source": [
    "def save_sequence_as_fasta(sequence, output_path, record_id=\"amplified_sequence\"):\n",
    "    seq_record = SeqRecord(Seq(sequence), id=record_id, description=\"\")\n",
    "    SeqIO.write(seq_record, output_path, \"fasta\")\n",
    "    print(f\"Sequência salva em {output_path}\") \n",
    "\n",
    "\n",
    "save_sequence_as_fasta(results['field'][0], 'amplified_sequence.fasta', record_id='amplified_sequence')"
   ]
  },
  {
   "cell_type": "markdown",
   "id": "2d849fe5-03ac-47be-9080-57deabc5e523",
   "metadata": {},
   "source": [
    "# Blast"
   ]
  },
  {
   "cell_type": "code",
   "execution_count": 106,
   "id": "c8e4434d-37bb-49a7-b8fb-38f34cebb105",
   "metadata": {},
   "outputs": [],
   "source": [
    "def blast_sequence(fasta_file):\n",
    "    with open(fasta_file) as fasta:\n",
    "        result_handle = NCBIWWW.qblast(\"blastn\", \"nt\", fasta.read())\n",
    "        return result_handle"
   ]
  },
  {
   "cell_type": "code",
   "execution_count": 107,
   "id": "02db472e-7be2-40aa-99b0-b16d1f9fa221",
   "metadata": {},
   "outputs": [],
   "source": [
    "def parse_blast_result(result_handle):\n",
    "    blast_record = NCBIXML.read(result_handle)\n",
    "    \n",
    "    best_hit = None\n",
    "    for alignment in blast_record.alignments:\n",
    "        for hsp in alignment.hsps:\n",
    "            if best_hit is None or hsp.expect < best_hit['e_value']:\n",
    "                best_hit = {\n",
    "                    'title': alignment.title,\n",
    "                    'length': alignment.length, \n",
    "                    'start': hsp.sbjct_start,\n",
    "                    'end': hsp.sbjct_end,\n",
    "                    'e_value': hsp.expect,\n",
    "                    'sequence': hsp.sbjct\n",
    "                }\n",
    "                \n",
    "    return best_hit\n"
   ]
  },
  {
   "cell_type": "code",
   "execution_count": 108,
   "id": "b0bf461a-6c29-4534-b4b7-1646e0e67297",
   "metadata": {},
   "outputs": [
    {
     "name": "stdout",
     "output_type": "stream",
     "text": [
      "****Best Hit****\n",
      "Title: gi|2769841181|gb|CP160221.1| Bacillus velezensis strain AP215 chromosome, complete genome\n",
      "Length: 3929792\n",
      "Start position: 6943\n",
      "End position: 7433\n",
      "E-value: 0.0\n",
      "Sequence: GCGGCCGCGATGCGTTACACAGAAGCGAGAATGTCAAAAATCGCAATGGAAATCCTCCGGGACATTACGAAAGATACGATTGATTATCAAGATAACTATGACGGCGCAGAAAGAGAACCTGTCGTCATGCCTTCGAGATTTCCGAATCTGCTCGTAAACGGAGCTGCCGGTATTGCGGTCGGAATGGCGACAAATATTCCTCCGCATCAGCTTGGGGAAGTCATTGAAGGCGTGCTTGCCGTAAGTGAGAATCCTGAGATTACAAACCAGGAGCTGATGGAATACATCCCGGGCCCGGATTTTCCGACTGCAGGTCAGATTTTGGGCCGGAGCGGCATCCGCAAGGCATATGAATCCGGACGGGGATCCATTACGATCCGGGCTAAGGCTGAAATCGAAGAGACATCATCGGGAAAAGAAAGAATTATTGTCACAGAACTTCCTTATCAGGTGAACAAAGCGAGATTAATTGAAAAAATCGCAGATCTTGT\n"
     ]
    }
   ],
   "source": [
    "result_handle = blast_sequence(\"amplified_sequence.fasta\")\n",
    "best_hit = parse_blast_result(result_handle)\n",
    "\n",
    "if best_hit:\n",
    "    print('****Best Hit****')\n",
    "    print('Title:', best_hit['title'])\n",
    "    print('Length:', best_hit['length'])\n",
    "    print('Start position:', best_hit['start'])\n",
    "    print('End position:', best_hit['end'])\n",
    "    print('E-value:', best_hit['e_value'])\n",
    "    print('Sequence:', best_hit['sequence'])\n",
    "else:\n",
    "    print('No significant hits found.')\n"
   ]
  }
 ],
 "metadata": {
  "kernelspec": {
   "display_name": "Python 3 (ipykernel)",
   "language": "python",
   "name": "python3"
  },
  "language_info": {
   "codemirror_mode": {
    "name": "ipython",
    "version": 3
   },
   "file_extension": ".py",
   "mimetype": "text/x-python",
   "name": "python",
   "nbconvert_exporter": "python",
   "pygments_lexer": "ipython3",
   "version": "3.11.7"
  }
 },
 "nbformat": 4,
 "nbformat_minor": 5
}
